{
 "cells": [
  {
   "cell_type": "code",
   "execution_count": 1,
   "metadata": {
    "colab": {},
    "colab_type": "code",
    "id": "V8cvMyCsw-q0"
   },
   "outputs": [],
   "source": [
    "import torch\n",
    "import torch.nn as nn\n",
    "import torch.nn.functional as F\n",
    "import torchvision\n",
    "import torchvision.transforms as transforms\n",
    "from torchvision import datasets, models\n",
    "from torch.utils.data import Dataset, DataLoader\n",
    "import numpy as np\n",
    "import matplotlib.pyplot as plt\n",
    "import os\n",
    "import zipfile\n",
    "from PIL import Image\n",
    "from sklearn.model_selection import train_test_split\n",
    "from PIL import Image\n",
    "from skimage.io import imread\n",
    "import pandas as pd\n",
    "import time\n"
   ]
  },
  {
   "cell_type": "code",
   "execution_count": null,
   "metadata": {
    "colab": {
     "base_uri": "https://localhost:8080/",
     "height": 34
    },
    "colab_type": "code",
    "id": "-ujoKRaqxqHk",
    "outputId": "e7b088e3-d08a-4bfe-d30b-555e940e3a8a"
   },
   "outputs": [],
   "source": [
    "# To extract the zip file. Can be skipped if already extracted\n",
    "needs_extract = False\n",
    "if needs_extract:\n",
    "    local_zip = 'chest-xray-pneumonia.zip'\n",
    "    zip_ref = zipfile.ZipFile(local_zip, 'r')\n",
    "    zip_ref.extractall('demo')\n",
    "    zip_ref.close()\n",
    "    base_path = \"demo/chest_xray/test\"\n",
    "    folder = os.listdir(base_path)\n",
    "    !rm -r 'demo/chest_xray/chest_xray/'\n",
    "    !rm -r 'demo/chest_xray/__MACOSX'\n"
   ]
  },
  {
   "cell_type": "code",
   "execution_count": 3,
   "metadata": {
    "colab": {
     "base_uri": "https://localhost:8080/",
     "height": 50
    },
    "colab_type": "code",
    "id": "EHOi2Xj-xspY",
    "outputId": "805b4431-ea78-40ac-c8e7-3a5e0514d4d4"
   },
   "outputs": [
    {
     "name": "stdout",
     "output_type": "stream",
     "text": [
      "Normal Train Images  1341\n",
      "Pneumonia Train Images  3875\n"
     ]
    }
   ],
   "source": [
    "train_normal_path = 'demo/chest_xray/train/NORMAL/'\n",
    "folder = os.listdir(train_normal_path)\n",
    "print(\"Normal Train Images \", len(folder))\n",
    "total_images = len(folder)\n",
    "df_normal_train =  pd.DataFrame(index=np.arange(0, total_images), columns=[\"path\", \"target\"])\n",
    "for i in range(total_images):\n",
    "    df_normal_train.iloc[i]['path'] =train_normal_path + folder[i]\n",
    "    df_normal_train.iloc[i]['target'] = 0\n",
    "train_pne_path = 'demo/chest_xray/train/PNEUMONIA/'\n",
    "folder = os.listdir(train_pne_path)\n",
    "print(\"Pneumonia Train Images \", len(folder))\n",
    "\n",
    "total_images =  len(folder)\n",
    "df_pne_train =  pd.DataFrame(index=np.arange(0, total_images), columns=[\"path\", \"target\"])\n",
    "for i in range(total_images):\n",
    "    df_pne_train.iloc[i]['path'] = train_pne_path+ folder[i]\n",
    "    df_pne_train.iloc[i]['target'] = 1\n",
    "\n",
    "RAND_STATE = 4545\n"
   ]
  },
  {
   "cell_type": "code",
   "execution_count": 4,
   "metadata": {
    "colab": {
     "base_uri": "https://localhost:8080/",
     "height": 50
    },
    "colab_type": "code",
    "id": "aC8NFatNk_wR",
    "outputId": "51e7d94b-e407-4f23-d268-fa4d26235cc3"
   },
   "outputs": [
    {
     "name": "stdout",
     "output_type": "stream",
     "text": [
      "Normal Test Images  234\n",
      "Pneumonia Test Images  390\n"
     ]
    }
   ],
   "source": [
    "device = torch.device('cuda' if torch.cuda.is_available() else 'cpu')\n",
    "\n",
    "df_train = pd.concat([df_normal_train.copy(),df_pne_train.copy()])\n",
    "df_train = df_train.sample(frac = 1,random_state = RAND_STATE)\n",
    "test_normal_path = 'demo/chest_xray/test/NORMAL/'\n",
    "folder = os.listdir(test_normal_path)\n",
    "print(\"Normal Test Images \", len(folder))\n",
    "total_images = len(folder)\n",
    "df_normal_test =  pd.DataFrame(index=np.arange(0, total_images), columns=[\"path\", \"target\"])\n",
    "for i in range(total_images):\n",
    "    df_normal_test.iloc[i]['path'] =test_normal_path + folder[i]\n",
    "    df_normal_test.iloc[i]['target'] = 0\n",
    "test_pne_path = 'demo/chest_xray/test/PNEUMONIA/'\n",
    "folder = os.listdir(test_pne_path)\n",
    "print(\"Pneumonia Test Images \", len(folder))\n",
    "total_images = len(folder)\n",
    "df_pne_test =  pd.DataFrame(index=np.arange(0, total_images), columns=[\"path\", \"target\"])\n",
    "for i in range(total_images):\n",
    "    df_pne_test.iloc[i]['path'] =test_pne_path + folder[i]\n",
    "    df_pne_test.iloc[i]['target'] = 1"
   ]
  },
  {
   "cell_type": "code",
   "execution_count": 5,
   "metadata": {
    "colab": {},
    "colab_type": "code",
    "id": "XrLfNfQllCK3"
   },
   "outputs": [],
   "source": [
    "df_test = pd.concat([df_normal_test.copy(),df_pne_test.copy()])\n",
    "df_test = df_test.sample(frac = 1,random_state = RAND_STATE)"
   ]
  },
  {
   "cell_type": "code",
   "execution_count": 6,
   "metadata": {
    "colab": {},
    "colab_type": "code",
    "id": "x90Nmsy0xuEw"
   },
   "outputs": [],
   "source": [
    "def my_transform(key=\"train\"):\n",
    "    train_sequence = [transforms.Resize((224,224)),                      \n",
    "                      transforms.ToTensor()]\n",
    "    test_sequence = [transforms.Resize((224,224)),\n",
    "                    transforms.ToTensor()]\n",
    "    data_transforms = {'train': transforms.Compose(train_sequence),\n",
    "                       'test': transforms.Compose(test_sequence)}\n",
    "    return data_transforms[key]\n",
    "\n",
    "\n",
    "class PNEDataset(Dataset):\n",
    "    \n",
    "    def __init__(self, df, transform=None):\n",
    "        self.states = df\n",
    "        self.transform=transform\n",
    "      \n",
    "    def __len__(self):\n",
    "        return len(self.states)\n",
    "        \n",
    "    def __getitem__(self, idx):\n",
    "        image_path = self.states.path.values[idx]\n",
    "        image = Image.open(image_path)\n",
    "        image = image.convert('L')\n",
    "        \n",
    "        if self.transform:\n",
    "            image = self.transform(image)\n",
    "         \n",
    "        target = np.int(self.states.target.values[idx])\n",
    "        return image,target\n",
    "\n",
    "train_dataset = PNEDataset(df_train, transform=my_transform(key=\"train\"))\n",
    "test_dataset =  PNEDataset(df_test, transform=my_transform(key=\"test\"))\n",
    "\n",
    "train_dataloader = DataLoader(train_dataset, batch_size=128, shuffle=True, drop_last=False)\n",
    "test_dataloader = DataLoader(test_dataset, batch_size=1, shuffle=False, drop_last=False)"
   ]
  },
  {
   "cell_type": "code",
   "execution_count": 7,
   "metadata": {
    "colab": {},
    "colab_type": "code",
    "id": "kUhah-qdxwFQ"
   },
   "outputs": [],
   "source": [
    "torch.manual_seed(756)\n",
    "model = torchvision.models.resnet18(pretrained=False)\n",
    "model.conv1 = nn.Conv2d(1, 64, kernel_size=(7, 7), stride=(2, 2), padding=(3, 3), bias=False)\n",
    "num_features = model.fc.in_features\n",
    "model.fc = nn.Sequential(\n",
    "    nn.Linear(num_features, 256),\n",
    "    nn.BatchNorm1d(256),\n",
    "    nn.ReLU(),\n",
    "    nn.Dropout(0.2),\n",
    "    nn.Linear(256,9)\n",
    ")\n",
    "model = model.to(device)"
   ]
  },
  {
   "cell_type": "code",
   "execution_count": 8,
   "metadata": {
    "colab": {},
    "colab_type": "code",
    "id": "anLan5O2x3SA"
   },
   "outputs": [],
   "source": [
    "def cumLaplaceDistribution(y_pred,mean,standard_deviation,all_qs):\n",
    "    term1 = ((1-all_qs) * (y_pred - mean))/standard_deviation\n",
    "    term1.clamp_(max = 0)\n",
    "    lesser_term = all_qs * torch.exp(term1)\n",
    "    term2 = (-1.0 * all_qs * (y_pred - mean))/standard_deviation\n",
    "    term2.clamp_(max = 0)\n",
    "    greater_term = 1 - ((1-all_qs) * torch.exp(term2))\n",
    "    dummy_ones = torch.ones_like(mean)\n",
    "    y_dummy_pred = torch.div(y_pred,dummy_ones)\n",
    "    y_dummy_pred[y_pred >= mean] = 1.0\n",
    "    y_dummy_pred[y_pred < mean] = 0.0\n",
    "    return ((1 - y_dummy_pred) * lesser_term )+  (y_dummy_pred * greater_term)\n",
    "\n",
    "\n",
    "def logLikelihoodLoss(y_true,y_pred,mean,standard_deviation,all_qs):\n",
    "    new_pred = y_pred\n",
    "    prob_tens = cumLaplaceDistribution(0.0,mean = new_pred,standard_deviation = standard_deviation,all_qs = all_qs)\n",
    "    prob_tens.clamp_(min = 1e-7,max = 1 - 1e-7)\n",
    "    if_one = y_true * torch.log(1 - prob_tens)\n",
    "    if_zero = (1 - y_true) * torch.log(prob_tens)\n",
    "    result = - 1 * torch.mean(if_one + if_zero)\n",
    "    return result\n",
    "\n",
    "def customLoss(y_true, y_pred, mean, standard_deviation, all_qs, penalty):\n",
    "    ind_losses = []\n",
    "    for i,j in enumerate(all_qs):\n",
    "        solo_loss = logLikelihoodLoss(y_true[:,0],y_pred[:,i] ,mean, standard_deviation, j)\n",
    "        ind_losses.append(solo_loss)\n",
    "    zero = torch.Tensor([0]).to(device)\n",
    "    dummy1 = y_pred[:,1:] - y_pred[:,:-1]\n",
    "    dummy2 = penalty * torch.mean(torch.max(zero,-1.0 * dummy1))\n",
    "    total_loss  = torch.mean(torch.stack(ind_losses)) +dummy2\n",
    "    return total_loss\n",
    "\n",
    "def customTestPred(y_pred,mean,standard_deviation,all_qs,batch_size = 1):\n",
    "    if(batch_size == 1):\n",
    "        acc = []\n",
    "        cdfs = []\n",
    "        eps = 1e-10\n",
    "        val = (y_pred - mean)/standard_deviation \n",
    "        for xx in range(batch_size):\n",
    "            if(y_pred < mean.item()):\n",
    "                lesser_term = all_qs * torch.exp((1 - all_qs) * val.item())\n",
    "                lesser_term  = 1 - lesser_term\n",
    "                cdfs.append(lesser_term.item())\n",
    "                if(lesser_term.item() >= 0.5):\n",
    "                    acc.append([1])\n",
    "                else:\n",
    "                    acc.append([0])\n",
    "            \n",
    "            elif(y_pred >= mean.item()):\n",
    "                greater_term = 1 - ((1-all_qs) * torch.exp(-1 * all_qs * val.item()))\n",
    "                greater_term = 1 - greater_term\n",
    "                cdfs.append(greater_term.item())\n",
    "                if(greater_term.item() >= 0.5):\n",
    "                    acc.append([1])\n",
    "                else:\n",
    "                    acc.append([0])\n",
    "    \n",
    "    elif(batch_size > 1):\n",
    "        acc = []\n",
    "        cdfs = []\n",
    "        eps = 1e-10\n",
    "        val = (y_pred - mean)/standard_deviation \n",
    "        for xx in range(batch_size):\n",
    "            if(y_pred < mean[xx]):\n",
    "                lesser_term = all_qs * torch.exp((1 - all_qs) * val[xx])\n",
    "                lesser_term  = 1 - lesser_term\n",
    "                cdfs.append(lesser_term.item())\n",
    "                if(lesser_term.item() >= 0.5):\n",
    "                    acc.append([1])\n",
    "                else:\n",
    "                    acc.append([0])\n",
    "            elif(y_pred >= mean[xx]):\n",
    "                greater_term = 1 - ((1-all_qs) * torch.exp(-1 * all_qs * val[xx]))\n",
    "                greater_term = 1 - greater_term\n",
    "                cdfs.append(greater_term.item())\n",
    "                if(greater_term.item() >= 0.5):\n",
    "                    acc.append([1])\n",
    "                else:\n",
    "                    acc.append([0])\n",
    "    return torch.Tensor(acc).to(device).reshape(-1,1),torch.Tensor(cdfs).to(device).reshape(-1,1)\n",
    "\n",
    "def acc_Q(train_preds,train_labels):\n",
    "    train_preds = np.array(train_preds).reshape(-1,1)\n",
    "    train_labels = np.array(train_labels).reshape(-1,1)\n",
    "\n",
    "    cdfs_acc,_ = customTestPred(0,train_preds,standard_deviation = 1,all_qs = torch.Tensor([0.5]),\n",
    "                                batch_size = train_preds.shape[0])\n",
    "\n",
    "    count = 0\n",
    "    for i,j in zip(cdfs_acc,train_labels):\n",
    "        if(i.item() == j[0]):\n",
    "            count += 1\n",
    "    return count/train_labels.shape[0]\n",
    "\n",
    "def acc_tests(test_preds,test_labels):\n",
    "    test_preds = np.array(test_preds).reshape(-1,1)\n",
    "    test_labels = np.array(test_labels).reshape(-1,1)\n",
    "    cdfs_acc,_ = customTestPred(0,test_preds,standard_deviation = 1,all_qs = torch.Tensor([0.5]),\n",
    "                                batch_size = test_preds.shape[0])\n",
    "\n",
    "    count = 0\n",
    "    for i,j in zip(cdfs_acc,test_labels):\n",
    "        if(i.item() == j[0]):\n",
    "            count += 1\n",
    "    return count/test_labels.shape[0]\n"
   ]
  },
  {
   "cell_type": "code",
   "execution_count": 9,
   "metadata": {
    "colab": {},
    "colab_type": "code",
    "id": "jItat7f6yEHv"
   },
   "outputs": [],
   "source": [
    "def train(model,optimizer,loader,epochs, verbose=True):\n",
    "    train_preds_Q = []\n",
    "    train_preds_bce = []\n",
    "    train_labels = []\n",
    "    model.train()\n",
    "    for i,j in enumerate(loader):\n",
    "        inputs,labels = j[0],j[1]\n",
    "        inputs = inputs.to(device)\n",
    "        labels = labels.to(device)\n",
    "        batch_size = labels.shape\n",
    "        optimizer.zero_grad()\n",
    "        op_qs = model(inputs)\n",
    "        lossQ = customLoss(labels.reshape(-1,1),op_qs, mean_is,std_is,all_qs,penalty)\n",
    "        lossQ.backward()\n",
    "        optimizer.step()\n",
    "        for lag in op_qs[:,4].detach().reshape(-1,1):\n",
    "            train_preds_Q.append(lag.item())\n",
    "        for lag in labels.reshape(-1,1):\n",
    "            train_labels.append(lag.item())\n",
    "    \n",
    "    acc_is_Q = acc_Q(train_preds_Q,train_labels)\n",
    "    if verbose:\n",
    "        print(\"[%d/%d] Train Acc Q : %f \"%(epochs,total_epochs,acc_is_Q))\n",
    "    return acc_is_Q"
   ]
  },
  {
   "cell_type": "code",
   "execution_count": 10,
   "metadata": {
    "colab": {},
    "colab_type": "code",
    "id": "7duarjXOyFzR"
   },
   "outputs": [],
   "source": [
    "def test(model,loader,epochs,verbose=True):\n",
    "    model.eval()\n",
    "    test_preds_Q = []\n",
    "    test_preds_bce = []\n",
    "    test_labels = []\n",
    "    with torch.no_grad():\n",
    "        for i,j in enumerate(loader):\n",
    "            inputs,labels = j[0],j[1]\n",
    "            inputs = inputs.to(device)\n",
    "            labels = labels.to(device)\n",
    "            op_qs = model(inputs)\n",
    "            for lag in op_qs[:,4].detach().reshape(-1,1):\n",
    "                test_preds_Q.append(lag.item())\n",
    "            for lag in labels.reshape(-1,1):\n",
    "                test_labels.append(lag.item())\n",
    "                \n",
    "    acc_is_Q = acc_tests(test_preds_Q,test_labels)\n",
    "    print(\"[%d/%d] Test Acc Q : %f  \"%(epochs,total_epochs,acc_is_Q))\n",
    "\n",
    "\n"
   ]
  },
  {
   "cell_type": "code",
   "execution_count": 11,
   "metadata": {
    "colab": {},
    "colab_type": "code",
    "id": "sKwPFZBS3HbX"
   },
   "outputs": [],
   "source": [
    "def quantileCDF(x, tau):\n",
    "    if x>0:\n",
    "        return 1 - tau*np.exp((tau-1)*x)\n",
    "    else:\n",
    "        return (1 - tau)*np.exp(tau*x)"
   ]
  },
  {
   "cell_type": "code",
   "execution_count": 12,
   "metadata": {
    "colab": {},
    "colab_type": "code",
    "id": "X-m0aHuPx7v6"
   },
   "outputs": [],
   "source": [
    "lr_is = 1e-2\n",
    "optimizer = torch.optim.SGD(model.parameters(), lr = lr_is)\n",
    "all_qs = [0.1,0.2,0.3,0.4,0.5,0.6,0.7,0.8,0.9]\n",
    "all_qs = torch.Tensor(all_qs).to(device)\n",
    "mean_is = 0\n",
    "std_is = 1\n",
    "penalty = 1\n",
    "epsilon = 0.00\n",
    "total_epochs = 10\n",
    "verbosity = True"
   ]
  },
  {
   "cell_type": "code",
   "execution_count": 13,
   "metadata": {
    "colab": {
     "base_uri": "https://localhost:8080/",
     "height": 353
    },
    "colab_type": "code",
    "id": "7la2_m2RyHY_",
    "outputId": "c5843927-cd9e-4146-c597-1f5c341cc979"
   },
   "outputs": [
    {
     "name": "stdout",
     "output_type": "stream",
     "text": [
      "[1/10] Train Acc Q : 0.794095 \n",
      "[1/10] Test Acc Q : 0.625000  \n",
      "[2/10] Train Acc Q : 0.855253 \n",
      "[2/10] Test Acc Q : 0.759615  \n",
      "[3/10] Train Acc Q : 0.876534 \n",
      "[3/10] Test Acc Q : 0.809295  \n",
      "[4/10] Train Acc Q : 0.891104 \n",
      "[4/10] Test Acc Q : 0.823718  \n",
      "[5/10] Train Acc Q : 0.900690 \n",
      "[5/10] Test Acc Q : 0.750000  \n",
      "[6/10] Train Acc Q : 0.908167 \n",
      "[6/10] Test Acc Q : 0.831731  \n",
      "[7/10] Train Acc Q : 0.918137 \n",
      "[7/10] Test Acc Q : 0.668269  \n",
      "[8/10] Train Acc Q : 0.929256 \n",
      "[8/10] Test Acc Q : 0.778846  \n",
      "[9/10] Train Acc Q : 0.937500 \n",
      "[9/10] Test Acc Q : 0.695513  \n",
      "[10/10] Train Acc Q : 0.944594 \n",
      "[10/10] Test Acc Q : 0.793269  \n"
     ]
    }
   ],
   "source": [
    "for i in range(total_epochs):\n",
    "    acc_train = train(model,optimizer, train_dataloader,i+1,verbosity)\n",
    "    acc_test = test(model,test_dataloader,i+1,verbosity)"
   ]
  },
  {
   "cell_type": "code",
   "execution_count": 14,
   "metadata": {
    "colab": {},
    "colab_type": "code",
    "id": "6UlwRRVu3ImP"
   },
   "outputs": [],
   "source": [
    "delta_total = [0,0,0,0,0]\n",
    "delta_misc = [0,0,0,0,0]\n",
    "accept_total = [0,0,0,0,0]\n",
    "with torch.no_grad():\n",
    "    all_preds = [[] for i in range(9)]\n",
    "    test_labels = []\n",
    "    for i,j in test_dataloader:\n",
    "        inputs,labels = i.to(device),j.to(device)\n",
    "        op_qs = model(inputs)\n",
    "        for itemset in op_qs.detach():\n",
    "            for quant in range(9):\n",
    "                all_preds[quant].append(itemset[quant].item())\n",
    "        for lbl in labels.reshape(-1,1):\n",
    "            test_labels.append(lbl.item())\n",
    "    \n",
    "    for i,j in train_dataloader:\n",
    "        inputs,labels = i.to(device),j.to(device)\n",
    "        op_qs = model(inputs)\n",
    "        for itemset in op_qs.detach():\n",
    "            for quant in range(9):\n",
    "                all_preds[quant].append(itemset[quant].item())\n",
    "        for lbl in labels.reshape(-1,1):\n",
    "            test_labels.append(lbl.item())\n",
    "\n",
    "correct_counter = 0\n",
    "for i in range(len(test_labels)):\n",
    "    start = 4\n",
    "    left = start\n",
    "    right = start\n",
    "    found = False\n",
    "    count = 0\n",
    "    medprob = quantileCDF(all_preds[start][i], 0.5)\n",
    "    while (left>-1 and not found):\n",
    "        q_left = all_preds[left][i]\n",
    "        q_right = all_preds[right][i]\n",
    "        p_left = quantileCDF(q_left, 0.5)\n",
    "        p_right = quantileCDF(q_right, 0.5)\n",
    "        left -=1\n",
    "        right +=1\n",
    "        if (q_left < 0.5 and q_right>0.5):\n",
    "            found = True\n",
    "        else:\n",
    "            count +=1\n",
    "    delta_total[count-1] +=1\n",
    "    for temp in range(5):\n",
    "        if count-1>=temp:\n",
    "            accept_total[temp] +=1\n",
    "    if (test_labels[i]==0 and medprob<=0.5) or (test_labels[i]==1 and medprob>0.5):\n",
    "        correct_pred = True\n",
    "        correct_counter += 1\n",
    "    else:\n",
    "        correct_pred = False\n",
    "    if not correct_pred:\n",
    "        delta_misc[count-1] +=1\n"
   ]
  },
  {
   "cell_type": "code",
   "execution_count": 15,
   "metadata": {
    "colab": {
     "base_uri": "https://localhost:8080/",
     "height": 101
    },
    "colab_type": "code",
    "id": "kq3a1Lmjpb76",
    "outputId": "37f2da10-b35e-46b0-f91a-58f2614b3036"
   },
   "outputs": [
    {
     "name": "stdout",
     "output_type": "stream",
     "text": [
      "Accuracy:0.94\n",
      "\n",
      "Delta      | 0.10 | 0.20 | 0.30 | 0.40 | 0.50 | \n",
      "Misc. Rate | 0.30 | 0.26 | 0.13 | 0.03 | 0.01 | \n",
      "Ret.  Rate | 1.00 | 0.94 | 0.86 | 0.76 | 0.46 | "
     ]
    }
   ],
   "source": [
    "print(\"Accuracy:{:.2f}\".format(correct_counter/len(test_labels)))\n",
    "print()\n",
    "\n",
    "print(\"Delta      |\",end=\" \")\n",
    "for i in range(5):\n",
    "    print(\"{:.2f}\".format(0.1*(i+1)), end=\" | \")\n",
    "print()\n",
    "print(\"Misc. Rate |\",end=\" \")\n",
    "for i in range(5):\n",
    "    if delta_total[i] != 0:\n",
    "        val = delta_misc[i]/delta_total[i]\n",
    "    else:\n",
    "        val = 0\n",
    "    print(\"{:.2f}\".format(val), end=\" | \")\n",
    "print()\n",
    "print(\"Ret.  Rate |\",end=\" \")\n",
    "for i in accept_total:\n",
    "    print(\"{:.2f}\".format(i/len(test_labels)), end=\" | \")"
   ]
  },
  {
   "cell_type": "code",
   "execution_count": 15,
   "metadata": {
    "colab": {},
    "colab_type": "code",
    "id": "SUx090VlkyHP"
   },
   "outputs": [],
   "source": []
  }
 ],
 "metadata": {
  "accelerator": "GPU",
  "colab": {
   "collapsed_sections": [],
   "name": "DeltaXRay.ipynb",
   "provenance": []
  },
  "kernelspec": {
   "display_name": "Python 3",
   "language": "python",
   "name": "python3"
  },
  "language_info": {
   "codemirror_mode": {
    "name": "ipython",
    "version": 3
   },
   "file_extension": ".py",
   "mimetype": "text/x-python",
   "name": "python",
   "nbconvert_exporter": "python",
   "pygments_lexer": "ipython3",
   "version": "3.6.8"
  }
 },
 "nbformat": 4,
 "nbformat_minor": 1
}
